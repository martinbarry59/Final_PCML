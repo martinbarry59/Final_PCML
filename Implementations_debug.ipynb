{
 "cells": [
  {
   "cell_type": "code",
   "execution_count": 1,
   "metadata": {
    "collapsed": true
   },
   "outputs": [],
   "source": [
    "# Useful starting lines\n",
    "%matplotlib inline\n",
    "import matplotlib.pyplot as plt\n",
    "%load_ext autoreload\n",
    "%autoreload 2"
   ]
  },
  {
   "cell_type": "code",
   "execution_count": 2,
   "metadata": {
    "collapsed": true
   },
   "outputs": [],
   "source": [
    "from proj1_helpers import *\n",
    "DATA_TRAIN_PATH = r'../train.csv' # TODO: download train data and supply path here \n",
    "y, tX, ids = load_csv_data(DATA_TRAIN_PATH)"
   ]
  },
  {
   "cell_type": "code",
   "execution_count": 7,
   "metadata": {
    "collapsed": false
   },
   "outputs": [
    {
     "name": "stdout",
     "output_type": "stream",
     "text": [
      "[0, 1, 2, 3, 4, 5, 6, 7, 8, 9, 10, 11, 12, 13, 14, 15, 16, 17, 18, 19, 20, 21, 22, 23, 24, 25, 26, 27, 28, 29]\n"
     ]
    }
   ],
   "source": [
    "import implementations as im\n",
    "tX_final ,index = im.formating(tX)"
   ]
  },
  {
   "cell_type": "code",
   "execution_count": 9,
   "metadata": {
    "collapsed": false
   },
   "outputs": [
    {
     "name": "stdout",
     "output_type": "stream",
     "text": [
      "3.81520424476945e-33\n",
      "Gradient Descent(0/9): loss=0.5\n",
      "1.2717347482564833e-32\n",
      "Gradient Descent(1/9): loss=0.49652700044982856\n",
      "1.2717347482564833e-32\n",
      "Gradient Descent(2/9): loss=0.48920232156605736\n",
      "4.2391158275216116e-32\n",
      "Gradient Descent(3/9): loss=0.48289384138574587\n",
      "3.81520424476945e-33\n",
      "Gradient Descent(4/9): loss=0.4673124648135486\n",
      "1.2717347482564833e-32\n",
      "Gradient Descent(5/9): loss=0.46530198497592534\n",
      "1.2717347482564833e-32\n",
      "Gradient Descent(6/9): loss=0.46179412406286424\n",
      "1.2717347482564833e-32\n",
      "Gradient Descent(7/9): loss=0.4588082160477803\n",
      "4.2391158275216116e-32\n",
      "Gradient Descent(8/9): loss=0.4562188861988009\n",
      "3.81520424476945e-33\n",
      "Gradient Descent(9/9): loss=0.4496426589503343\n"
     ]
    }
   ],
   "source": [
    "# Least Squares GD\n",
    "max_iters = 10 # max iter number\n",
    "gamma = 3e-37 # gradient descent speed , not used here as gamma updated by backtracking\n",
    "tX_final_gd = im.build_poly(tX_final, 5)\n",
    "initial_w = np.zeros(tX_final_gd.shape[1]) # initialisation of initial weights\n",
    "weight, loss = im.least_squares_GD(y, tX_final_gd, initial_w, max_iters, gamma) "
   ]
  },
  {
   "cell_type": "code",
   "execution_count": null,
   "metadata": {
    "collapsed": true
   },
   "outputs": [],
   "source": []
  }
 ],
 "metadata": {
  "anaconda-cloud": {},
  "kernelspec": {
   "display_name": "Python [Root]",
   "language": "python",
   "name": "Python [Root]"
  },
  "language_info": {
   "codemirror_mode": {
    "name": "ipython",
    "version": 3
   },
   "file_extension": ".py",
   "mimetype": "text/x-python",
   "name": "python",
   "nbconvert_exporter": "python",
   "pygments_lexer": "ipython3",
   "version": "3.5.2"
  }
 },
 "nbformat": 4,
 "nbformat_minor": 0
}
